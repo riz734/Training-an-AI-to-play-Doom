{
 "cells": [
  {
   "cell_type": "markdown",
   "id": "87baf8f3",
   "metadata": {},
   "source": [
    "Setup Environment"
   ]
  },
  {
   "cell_type": "code",
   "execution_count": 1,
   "id": "eb9e0cc1",
   "metadata": {},
   "outputs": [],
   "source": [
    "#pipinstall vizdoom and clone repo in new folder\n",
    "#!cd github & git clone https://github.com/Farama-Foundation/ViZDoom.git\n",
    "\n",
    "#import vizdoom to setup game environment\n",
    "from vizdoom import *\n",
    "import random\n",
    "import time\n",
    "import numpy as np"
   ]
  },
  {
   "cell_type": "code",
   "execution_count": 20,
   "id": "b6e72759",
   "metadata": {
    "scrolled": true
   },
   "outputs": [
    {
     "name": "stdout",
     "output_type": "stream",
     "text": [
      "reward: -1.0\n",
      "reward: -1.0\n",
      "reward: -1.0\n",
      "reward: -1.0\n",
      "reward: -1.0\n",
      "reward: -1.0\n",
      "reward: -1.0\n",
      "reward: -1.0\n",
      "reward: -1.0\n",
      "reward: -1.0\n",
      "reward: 100.0\n",
      "reward: -1.0\n",
      "Result: 89.0\n",
      "reward: -1.0\n",
      "reward: -1.0\n",
      "reward: -1.0\n",
      "reward: -1.0\n",
      "reward: -1.0\n",
      "reward: -1.0\n",
      "reward: 100.0\n",
      "reward: -1.0\n",
      "Result: 93.0\n"
     ]
    },
    {
     "ename": "KeyboardInterrupt",
     "evalue": "",
     "output_type": "error",
     "traceback": [
      "\u001b[1;31m---------------------------------------------------------------------------\u001b[0m",
      "\u001b[1;31mKeyboardInterrupt\u001b[0m                         Traceback (most recent call last)",
      "\u001b[1;32m<ipython-input-20-b3719ac5f4e1>\u001b[0m in \u001b[0;36m<module>\u001b[1;34m\u001b[0m\n\u001b[0;32m     17\u001b[0m         \u001b[0mtime\u001b[0m\u001b[1;33m.\u001b[0m\u001b[0msleep\u001b[0m\u001b[1;33m(\u001b[0m\u001b[1;36m.02\u001b[0m\u001b[1;33m)\u001b[0m\u001b[1;33m\u001b[0m\u001b[1;33m\u001b[0m\u001b[0m\n\u001b[0;32m     18\u001b[0m     \u001b[0mprint\u001b[0m\u001b[1;33m(\u001b[0m\u001b[1;34m\"Result:\"\u001b[0m\u001b[1;33m,\u001b[0m \u001b[0mgame\u001b[0m\u001b[1;33m.\u001b[0m\u001b[0mget_total_reward\u001b[0m\u001b[1;33m(\u001b[0m\u001b[1;33m)\u001b[0m\u001b[1;33m)\u001b[0m\u001b[1;33m\u001b[0m\u001b[1;33m\u001b[0m\u001b[0m\n\u001b[1;32m---> 19\u001b[1;33m     \u001b[0mtime\u001b[0m\u001b[1;33m.\u001b[0m\u001b[0msleep\u001b[0m\u001b[1;33m(\u001b[0m\u001b[1;36m2\u001b[0m\u001b[1;33m)\u001b[0m\u001b[1;33m\u001b[0m\u001b[1;33m\u001b[0m\u001b[0m\n\u001b[0m\u001b[0;32m     20\u001b[0m \u001b[1;33m\u001b[0m\u001b[0m\n\u001b[0;32m     21\u001b[0m \u001b[1;33m\u001b[0m\u001b[0m\n",
      "\u001b[1;31mKeyboardInterrupt\u001b[0m: "
     ]
    }
   ],
   "source": [
    "#number of games\n",
    "episodes = 10\n",
    "\n",
    "for episode in range(episodes):\n",
    "    \n",
    "    #new instance of game, similar to restarting\n",
    "    game.new_episode()\n",
    "    \n",
    "    #while game is running\n",
    "    while not game.is_episode_finished():\n",
    "        \n",
    "        #get game state\n",
    "        state = game.get_state()\n",
    "        #use game state to screen image\n",
    "        img = state.screen_buffer\n",
    "        #ise game state to grab game vars, i.e. ammo\n",
    "        info = state.game_variables\n",
    "        #take action, make_action() returns reward value for taking step\n",
    "        reward = game.make_action(random.choice(actions),4) #2nd para is frame skip to give time between taking action and receiving result\n",
    "        print(\"reward:\", reward)\n",
    "        time.sleep(.02)\n",
    "    print(\"Result:\", game.get_total_reward())\n",
    "    time.sleep(2)\n",
    "        \n",
    "    "
   ]
  },
  {
   "cell_type": "markdown",
   "id": "ad1eafaf",
   "metadata": {},
   "source": [
    "Setting up Doom with OpenAI Gym"
   ]
  },
  {
   "cell_type": "code",
   "execution_count": 7,
   "id": "1f240983",
   "metadata": {},
   "outputs": [
    {
     "name": "stderr",
     "output_type": "stream",
     "text": [
      "Warning: Gym version v0.24.1 has a number of critical issues with `gym.make` such that environment observation and action spaces are incorrectly evaluated, raising incorrect errors and warning . It is recommend to downgrading to v0.23.1 or upgrading to v0.25.1\n"
     ]
    }
   ],
   "source": [
    "#pip install and import gym environment\n",
    "from gym import Env\n",
    "from gym.spaces import Discrete, Box\n",
    "import cv2"
   ]
  },
  {
   "cell_type": "code",
   "execution_count": 86,
   "id": "37732746",
   "metadata": {},
   "outputs": [],
   "source": [
    "class VizDoomGym(Env):\n",
    "    #called when env is started > game\n",
    "    def __init__(self,render=False):\n",
    "        self.game = DoomGame()\n",
    "        self.game.load_config(\"github/VizDoom/scenarios/basic.cfg\")\n",
    "        \n",
    "        #Disable or enable window visiblity when game is running\n",
    "        if render == False:\n",
    "            self.game.set_window_visible(False)\n",
    "        else:\n",
    "            self.game.set_window_visible(True)\n",
    "        \n",
    "        self.game.init()\n",
    "    \n",
    "        \n",
    "        \n",
    "        #create obs and action space\n",
    "        #low/high indicates pixel vals\n",
    "        self.observation_space = Box(low=0,high=255,shape=(3,320,240),dtype=np.uint8)\n",
    "        self.action_space = Discrete(3)\n",
    "    #tale actons\n",
    "    def step(self,action):\n",
    "        actions = np.identity(3,dtype=np.uint8)\n",
    "        \n",
    "        #take action, make_action() returns reward value for taking ste\n",
    "        #2nd para is frame skip to give time between taking action and receiving result\n",
    "        reward = self.game.make_action(actions[action],4)\n",
    "        \n",
    "        #if something is returned from game_state()\n",
    "        if self.game.get_state():\n",
    "            #get game state to grab screen image\n",
    "            state = self.game.get_state().screen_buffer\n",
    "            #apply grayscale\n",
    "            state = self.grayscale(state)\n",
    "            #use game state to grab game vars, i.e. ammo\n",
    "            info = self.game.get_state().game_variables\n",
    "            \n",
    "        #game_state returns nothing/errors out\n",
    "        else:\n",
    "            state = np.zeros(self.observation_space.shape)\n",
    "            info = 0\n",
    "        \n",
    "        done = self.game.is_episode_finished()\n",
    "        \n",
    "        \n",
    "        return state,reward,done,info\n",
    "    def render():\n",
    "        pass\n",
    "    \n",
    "    #resets game\n",
    "    def reset(self):\n",
    "        self.game.new_episode()\n",
    "        state = self.game.get_state().screen_buffer\n",
    "        return self.grayscale(state)\n",
    "    \n",
    "    #grayscale frame and resize to make training faster\n",
    "    def grayscale(self,observation):\n",
    "        gray = cv2.cvtColor(np.moveaxis(observation,0,-1),cv2.COLOR_BGR2GRAY)\n",
    "        return gray\n",
    "    #close the game\n",
    "    def close(self):\n",
    "        self.game.close()"
   ]
  },
  {
   "cell_type": "code",
   "execution_count": 88,
   "id": "1280c36e",
   "metadata": {},
   "outputs": [],
   "source": [
    "env = VizDoomGym(render=True)"
   ]
  },
  {
   "cell_type": "code",
   "execution_count": 89,
   "id": "e7ab780e",
   "metadata": {},
   "outputs": [
    {
     "data": {
      "text/plain": [
       "(array([[35, 39, 39, ..., 39, 39, 39],\n",
       "        [59, 67, 59, ..., 67, 67, 91],\n",
       "        [79, 79, 79, ..., 79, 91, 91],\n",
       "        ...,\n",
       "        [19, 19, 11, ..., 47, 47, 55],\n",
       "        [19, 27, 19, ..., 47, 47, 47],\n",
       "        [11, 19, 19, ..., 27, 19, 19]], dtype=uint8),\n",
       " -4.0,\n",
       " False,\n",
       " array([50.]))"
      ]
     },
     "execution_count": 89,
     "metadata": {},
     "output_type": "execute_result"
    }
   ],
   "source": [
    "env.step(2)"
   ]
  },
  {
   "cell_type": "code",
   "execution_count": 73,
   "id": "182d9067",
   "metadata": {},
   "outputs": [
    {
     "data": {
      "text/plain": [
       "(3, 320, 240)"
      ]
     },
     "execution_count": 73,
     "metadata": {},
     "output_type": "execute_result"
    }
   ],
   "source": [
    "env.observation_space.sample().shape"
   ]
  },
  {
   "cell_type": "code",
   "execution_count": 85,
   "id": "29cbf645",
   "metadata": {},
   "outputs": [
    {
     "ename": "TypeError",
     "evalue": "grayscale() missing 1 required positional argument: 'observation'",
     "output_type": "error",
     "traceback": [
      "\u001b[1;31m---------------------------------------------------------------------------\u001b[0m",
      "\u001b[1;31mTypeError\u001b[0m                                 Traceback (most recent call last)",
      "\u001b[1;32m<ipython-input-85-725388b124f6>\u001b[0m in \u001b[0;36m<module>\u001b[1;34m\u001b[0m\n\u001b[1;32m----> 1\u001b[1;33m \u001b[0menv\u001b[0m\u001b[1;33m.\u001b[0m\u001b[0mgrayscale\u001b[0m\u001b[1;33m(\u001b[0m\u001b[1;33m)\u001b[0m\u001b[1;33m\u001b[0m\u001b[1;33m\u001b[0m\u001b[0m\n\u001b[0m",
      "\u001b[1;31mTypeError\u001b[0m: grayscale() missing 1 required positional argument: 'observation'"
     ]
    }
   ],
   "source": [
    "env.grayscale()"
   ]
  },
  {
   "cell_type": "code",
   "execution_count": 90,
   "id": "00570e17",
   "metadata": {},
   "outputs": [],
   "source": [
    "state = env.reset()"
   ]
  },
  {
   "cell_type": "code",
   "execution_count": 91,
   "id": "d5bc95b6",
   "metadata": {},
   "outputs": [
    {
     "data": {
      "text/plain": [
       "(240, 320)"
      ]
     },
     "execution_count": 91,
     "metadata": {},
     "output_type": "execute_result"
    }
   ],
   "source": [
    "state.shape"
   ]
  },
  {
   "cell_type": "code",
   "execution_count": 92,
   "id": "da3f9dca",
   "metadata": {},
   "outputs": [],
   "source": [
    "env.close()"
   ]
  },
  {
   "cell_type": "code",
   "execution_count": null,
   "id": "893f14e0",
   "metadata": {},
   "outputs": [],
   "source": []
  }
 ],
 "metadata": {
  "kernelspec": {
   "display_name": "Python 3",
   "language": "python",
   "name": "python3"
  },
  "language_info": {
   "codemirror_mode": {
    "name": "ipython",
    "version": 3
   },
   "file_extension": ".py",
   "mimetype": "text/x-python",
   "name": "python",
   "nbconvert_exporter": "python",
   "pygments_lexer": "ipython3",
   "version": "3.8.8"
  }
 },
 "nbformat": 4,
 "nbformat_minor": 5
}
